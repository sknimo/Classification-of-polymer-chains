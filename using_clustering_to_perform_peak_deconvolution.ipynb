{
 "cells": [
  {
   "cell_type": "markdown",
   "id": "6d8c0cfb",
   "metadata": {},
   "source": [
    "# Peak deconvolution of molecular weight distributions using Gaussian Mixture model\n",
    "\n",
    "\n"
   ]
  }
 ],
 "metadata": {
  "kernelspec": {
   "display_name": "Python 3",
   "language": "python",
   "name": "python3"
  },
  "language_info": {
   "codemirror_mode": {
    "name": "ipython",
    "version": 3
   },
   "file_extension": ".py",
   "mimetype": "text/x-python",
   "name": "python",
   "nbconvert_exporter": "python",
   "pygments_lexer": "ipython3",
   "version": "3.7.7"
  }
 },
 "nbformat": 4,
 "nbformat_minor": 5
}
